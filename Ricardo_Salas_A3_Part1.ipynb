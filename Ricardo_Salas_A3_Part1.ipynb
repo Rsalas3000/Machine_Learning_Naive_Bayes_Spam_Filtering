{
 "cells": [
  {
   "cell_type": "markdown",
   "id": "92a020e0",
   "metadata": {},
   "source": [
    "# Naive Bayes Implementation x55 Machine Learning"
   ]
  },
  {
   "cell_type": "code",
   "execution_count": 1,
   "id": "a1c1dc93",
   "metadata": {
    "scrolled": true
   },
   "outputs": [],
   "source": [
    "import numpy as np\n",
    "import pandas as pd\n",
    "from sklearn.model_selection import train_test_split\n",
    "import re\n",
    "import csv\n",
    "import os\n",
    "from sklearn import svm\n",
    "from sklearn.metrics import confusion_matrix\n",
    "from sklearn.metrics import roc_curve, auc\n",
    "from sklearn.linear_model import LogisticRegression\n",
    "from sklearn.naive_bayes import GaussianNB\n",
    "from sklearn.model_selection import cross_val_score\n",
    "from sklearn import metrics\n"
   ]
  },
  {
   "cell_type": "code",
   "execution_count": 2,
   "id": "b66e00f9",
   "metadata": {
    "scrolled": false
   },
   "outputs": [],
   "source": [
    "# created an empty feature list\n",
    "categories = []\n",
    "\n",
    "# open file \n",
    "feature_file = open('spambase.names')\n",
    "# remove '\\n', split the text,  and match with word_freq|char_freq feature \n",
    "for line in feature_file:\n",
    "    if not re.match(r'\\|', line):\n",
    "        line = line.rstrip()\n",
    "        if re.search(r'(word_freq_|char_freq_|capital_run_length_).+', line):   \n",
    "            words = line.split()\n",
    "            categories.append(words[0])\n",
    "# append spam feature           \n",
    "categories.append('spam')\n",
    "\n"
   ]
  },
  {
   "cell_type": "code",
   "execution_count": 3,
   "id": "b078db8c",
   "metadata": {
    "scrolled": true
   },
   "outputs": [],
   "source": [
    "# get the file\n",
    "data_file = open('spambase.data')\n",
    "# remove extra space, split the lines and store in csv file\n",
    "for file in data_file:\n",
    "    space_remove = (line.strip() for line in data_file)\n",
    "    lines = (line.split(\",\") for line in space_remove if line)\n",
    "    with open('spambase.csv', 'w') as out_file:\n",
    "        writer = csv.writer(out_file)\n",
    "        writer.writerow(categories)\n",
    "        writer.writerows(lines)"
   ]
  },
  {
   "cell_type": "markdown",
   "id": "7f542dc8",
   "metadata": {},
   "source": [
    "**Q1. Simple counts of spam and ham messages.**"
   ]
  },
  {
   "cell_type": "code",
   "execution_count": 4,
   "id": "979534e5",
   "metadata": {},
   "outputs": [
    {
     "name": "stdout",
     "output_type": "stream",
     "text": [
      "ham: 2788\n",
      "Spam: 1812\n"
     ]
    }
   ],
   "source": [
    "data = pd.read_csv('spambase.csv', sep = ',')\n",
    "# Count spam and non-spam\n",
    "count_ham = len(data[data.spam == 0])\n",
    "count_spam = len(data[data.spam == 1])\n",
    "\n",
    "print(\"ham: %d\" %count_ham)\n",
    "print(\"Spam: %d\" %count_spam)"
   ]
  },
  {
   "cell_type": "code",
   "execution_count": 5,
   "id": "a5104c2d",
   "metadata": {
    "scrolled": false
   },
   "outputs": [
    {
     "name": "stdout",
     "output_type": "stream",
     "text": [
      "   word_freq_make:  word_freq_address:  word_freq_all:  word_freq_3d:  \\\n",
      "0             0.21                0.28            0.50            0.0   \n",
      "1             0.06                0.00            0.71            0.0   \n",
      "2             0.00                0.00            0.00            0.0   \n",
      "3             0.00                0.00            0.00            0.0   \n",
      "4             0.00                0.00            0.00            0.0   \n",
      "\n",
      "   word_freq_our:  word_freq_over:  word_freq_remove:  word_freq_internet:  \\\n",
      "0            0.14             0.28               0.21                 0.07   \n",
      "1            1.23             0.19               0.19                 0.12   \n",
      "2            0.63             0.00               0.31                 0.63   \n",
      "3            0.63             0.00               0.31                 0.63   \n",
      "4            1.85             0.00               0.00                 1.85   \n",
      "\n",
      "   word_freq_order:  word_freq_mail:  ...  char_freq_;:  char_freq_(:  \\\n",
      "0              0.00             0.94  ...          0.00         0.132   \n",
      "1              0.64             0.25  ...          0.01         0.143   \n",
      "2              0.31             0.63  ...          0.00         0.137   \n",
      "3              0.31             0.63  ...          0.00         0.135   \n",
      "4              0.00             0.00  ...          0.00         0.223   \n",
      "\n",
      "   char_freq_[:  char_freq_!:  char_freq_$:  char_freq_#:  \\\n",
      "0           0.0         0.372         0.180         0.048   \n",
      "1           0.0         0.276         0.184         0.010   \n",
      "2           0.0         0.137         0.000         0.000   \n",
      "3           0.0         0.135         0.000         0.000   \n",
      "4           0.0         0.000         0.000         0.000   \n",
      "\n",
      "   capital_run_length_average:  capital_run_length_longest:  \\\n",
      "0                        5.114                          101   \n",
      "1                        9.821                          485   \n",
      "2                        3.537                           40   \n",
      "3                        3.537                           40   \n",
      "4                        3.000                           15   \n",
      "\n",
      "   capital_run_length_total:  spam  \n",
      "0                       1028     1  \n",
      "1                       2259     1  \n",
      "2                        191     1  \n",
      "3                        191     1  \n",
      "4                         54     1  \n",
      "\n",
      "[5 rows x 58 columns]\n"
     ]
    }
   ],
   "source": [
    "print(data.head())"
   ]
  },
  {
   "cell_type": "markdown",
   "id": "99065e4b",
   "metadata": {},
   "source": [
    "**Split the training and testing** \n",
    "The train-test split procedure is appropriate when you have a very large dataset, a costly model to train, or require a good estimate of model performance quickly.A training set with the size of 0.25 (25 percent) means that the remainder percentage 0.75 (75 percent) is assigned to the test set."
   ]
  },
  {
   "cell_type": "code",
   "execution_count": 6,
   "id": "1dc6f515",
   "metadata": {},
   "outputs": [],
   "source": [
    "X = data.values[:, 0:57]\n",
    "Y = data.values[:, 57]\n",
    "\n",
    "#takes a loaded dataset as input and returns the dataset split into two subsets.\n",
    "x_train, x_test, y_train, y_test = train_test_split(X, Y, test_size = 0.25, random_state = 42)"
   ]
  },
  {
   "cell_type": "code",
   "execution_count": 11,
   "id": "0f5610d7",
   "metadata": {},
   "outputs": [],
   "source": [
    "# Create an sklearn logistic regression model, solver is an iterative method \n",
    "# that solves \n",
    "logmodel = LogisticRegression(solver='lbfgs', max_iter=3_000)\n",
    "# Create an sklearn gaussian naive bayes classifier model\n",
    "gnb = GaussianNB()\n",
    "\n",
    "# Fit both models to the training set\n",
    "logmodel = logmodel.fit(x_train, y_train)\n",
    "gnb = gnb.fit(x_train, y_train)"
   ]
  },
  {
   "cell_type": "markdown",
   "id": "b8520753",
   "metadata": {},
   "source": [
    "b. naïve bayes libraries and compare the results using 10 fold cross validation."
   ]
  },
  {
   "cell_type": "code",
   "execution_count": 8,
   "id": "7b180f37",
   "metadata": {
    "scrolled": false
   },
   "outputs": [
    {
     "name": "stdout",
     "output_type": "stream",
     "text": [
      "10 Fold Cross Validation Accuracy - Logistic Regression: 0.931\n",
      "10 Fold Cross Validation Accuracy - Naive Bayes: 0.827\n",
      "The Logistic Regression models seems to be classifying the data more accurately.\n"
     ]
    }
   ],
   "source": [
    "log_score = cross_val_score(logmodel, X=x_train, y=y_train, cv=10, n_jobs=10)\n",
    "gnb_score = cross_val_score(gnb, X=x_train, y=y_train, cv=10, n_jobs=1)\n",
    "\n",
    "print(\"10 Fold Cross Validation Accuracy - Logistic Regression: %.3f\" %log_score.mean())\n",
    "print(\"10 Fold Cross Validation Accuracy - Naive Bayes: %.3f\" %gnb_score.mean())\n",
    "print(\"The Logistic Regression models seems to be classifying the data more accurately.\")"
   ]
  },
  {
   "cell_type": "code",
   "execution_count": 9,
   "id": "8e2e10a0",
   "metadata": {},
   "outputs": [
    {
     "name": "stdout",
     "output_type": "stream",
     "text": [
      "SK Logistic Regression Accuracy 0.916\n",
      "SK Naive Bayes Accuracy 0.814\n"
     ]
    }
   ],
   "source": [
    "# what is the accuracy of both\n",
    "# Have both models estimate the test set\n",
    "log_y_pred = logmodel.predict(x_test)\n",
    "gnb_y_pred = gnb.predict(x_test)\n",
    "# Calculate the accuracy of both models\n",
    "log_accuracy = metrics.accuracy_score(y_test, log_y_pred)\n",
    "gnb_accuracy = metrics.accuracy_score(y_test, gnb_y_pred)\n",
    "print(\"SK Logistic Regression Accuracy %.3f\" %log_accuracy)\n",
    "print(\"SK Naive Bayes Accuracy %.3f\" %gnb_accuracy)\n"
   ]
  },
  {
   "cell_type": "markdown",
   "id": "fdc6fcc1",
   "metadata": {},
   "source": [
    "**plot the two AUCs and compare.**"
   ]
  },
  {
   "cell_type": "code",
   "execution_count": 10,
   "id": "800fc402",
   "metadata": {
    "scrolled": true
   },
   "outputs": [
    {
     "data": {
      "image/png": "[encoded data removed]",
      "text/plain": [
       "<Figure size 432x288 with 1 Axes>"
      ]
     },
     "metadata": {
      "needs_background": "light"
     },
     "output_type": "display_data"
    }
   ],
   "source": [
    "# calculate the fpr and tpr for all thresholds of the classification\n",
    "probs = logmodel.predict_proba(x_test)\n",
    "preds = probs[:,1]\n",
    "fpr_log, tpr_log, threshold_log = metrics.roc_curve(y_test, preds)\n",
    "roc_auc_log = metrics.auc(fpr_log, tpr_log)\n",
    "\n",
    "probs = gnb.predict_proba(x_test)\n",
    "preds = probs[:,1]\n",
    "fpr_gnb, tpr_gnb, threshold_gnb = metrics.roc_curve(y_test, preds)\n",
    "roc_auc_gnb = metrics.auc(fpr_gnb, tpr_gnb)\n",
    "\n",
    "# method I: plt\n",
    "import matplotlib.pyplot as plt\n",
    "plt.title('AUC CURVE')\n",
    "plt.plot(fpr_log, tpr_log, 'g',linestyle='-', label = 'Logistic regression AUC = %0.3f' % roc_auc_log)\n",
    "plt.plot(fpr_gnb, tpr_gnb, 'm', label = 'Gaussian Naive Bayes AUC = %0.3f' % roc_auc_gnb)\n",
    "plt.legend(loc = 'lower right')\n",
    "plt.plot([0, 1], [0, 1],'y--')\n",
    "plt.xlim([0, 1])\n",
    "plt.ylim([0, 1])\n",
    "plt.ylabel('True Positive Rate')\n",
    "plt.xlabel('False Positive Rate')\n",
    "plt.show()"
   ]
  },
  {
   "cell_type": "markdown",
   "id": "500003e3",
   "metadata": {},
   "source": [
    "***Quantitative Diagnostic:***\n",
    "The Logistic regression AUC show better performance at ~ 96.4%\n",
    "The Gaussian Naive Bayes AUC performed at ~93.6%"
   ]
  }
 ],
 "metadata": {
  "kernelspec": {
   "display_name": "Python 3",
   "language": "python",
   "name": "python3"
  },
  "language_info": {
   "codemirror_mode": {
    "name": "ipython",
    "version": 3
   },
   "file_extension": ".py",
   "mimetype": "text/x-python",
   "name": "python",
   "nbconvert_exporter": "python",
   "pygments_lexer": "ipython3",
   "version": "3.8.8"
  }
 },
 "nbformat": 4,
 "nbformat_minor": 5
}
